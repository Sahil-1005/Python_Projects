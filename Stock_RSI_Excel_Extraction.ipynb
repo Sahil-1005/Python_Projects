{
 "cells": [
  {
   "cell_type": "code",
   "execution_count": 5,
   "id": "e6bb541f",
   "metadata": {},
   "outputs": [
    {
     "name": "stdout",
     "output_type": "stream",
     "text": [
      "\u001b[33mDEPRECATION: Configuring installation scheme with distutils config files is deprecated and will no longer work in the near future. If you are using a Homebrew or Linuxbrew Python, please see discussion at https://github.com/Homebrew/homebrew-core/issues/76621\u001b[0m\u001b[33m\n",
      "\u001b[0mCollecting XlsxWriter\n",
      "  Downloading XlsxWriter-3.2.0-py3-none-any.whl.metadata (2.6 kB)\n",
      "Downloading XlsxWriter-3.2.0-py3-none-any.whl (159 kB)\n",
      "\u001b[2K   \u001b[90m━━━━━━━━━━━━━━━━━━━━━━━━━━━━━━━━━━━━━━━\u001b[0m \u001b[32m159.9/159.9 kB\u001b[0m \u001b[31m862.3 kB/s\u001b[0m eta \u001b[36m0:00:00\u001b[0ma \u001b[36m0:00:01\u001b[0m\n",
      "\u001b[?25hInstalling collected packages: XlsxWriter\n",
      "\u001b[33m  DEPRECATION: Configuring installation scheme with distutils config files is deprecated and will no longer work in the near future. If you are using a Homebrew or Linuxbrew Python, please see discussion at https://github.com/Homebrew/homebrew-core/issues/76621\u001b[0m\u001b[33m\n",
      "\u001b[0m\u001b[33mDEPRECATION: Configuring installation scheme with distutils config files is deprecated and will no longer work in the near future. If you are using a Homebrew or Linuxbrew Python, please see discussion at https://github.com/Homebrew/homebrew-core/issues/76621\u001b[0m\u001b[33m\n",
      "\u001b[0mSuccessfully installed XlsxWriter-3.2.0\n",
      "Note: you may need to restart the kernel to use updated packages.\n"
     ]
    }
   ],
   "source": [
    "pip install XlsxWriter"
   ]
  },
  {
   "cell_type": "code",
   "execution_count": 3,
   "id": "a69dd81b",
   "metadata": {},
   "outputs": [
    {
     "name": "stdout",
     "output_type": "stream",
     "text": [
      "Enter stock ticker symbol: TCS\n"
     ]
    },
    {
     "name": "stderr",
     "output_type": "stream",
     "text": [
      "[*********************100%%**********************]  1 of 1 completed\n",
      "[*********************100%%**********************]  1 of 1 completed\n",
      "[*********************100%%**********************]  1 of 1 completed"
     ]
    },
    {
     "name": "stdout",
     "output_type": "stream",
     "text": [
      "RSI values saved to Excel files.\n"
     ]
    },
    {
     "name": "stderr",
     "output_type": "stream",
     "text": [
      "\n"
     ]
    }
   ],
   "source": [
    "import pandas as pd\n",
    "import yfinance as yf\n",
    "import xlsxwriter\n",
    "def get_rsi(ticker, period='1mo'):\n",
    "    # Fetch historical data\n",
    "    stock_data = yf.download(ticker, period=period)\n",
    "    \n",
    "    # Calculate RSI\n",
    "    delta = stock_data['Adj Close'].diff(1)\n",
    "    gain = (delta.where(delta > 0, 0)).rolling(window=14).mean()\n",
    "    loss = (-delta.where(delta < 0, 0)).rolling(window=14).mean()\n",
    "    rs = gain / loss\n",
    "    rsi = 100 - (100 / (1 + rs))\n",
    "    \n",
    "    # Add RSI to the dataframe\n",
    "    stock_data['RSI'] = rsi\n",
    "    \n",
    "    return stock_data\n",
    "\n",
    "def save_to_excel(data, filename):\n",
    "    writer = pd.ExcelWriter(filename, engine='xlsxwriter', engine_kwargs={'options': {'encoding': 'utf-8-sig'}})\n",
    "    data.to_excel(writer, sheet_name='RSI')\n",
    "    writer.save()\n",
    "\n",
    "def main():\n",
    "    # Input stock ticker symbol\n",
    "    ticker = input(\"Enter stock ticker symbol: \").upper()\n",
    "    # Fetch RSI data for different periods\n",
    "    monthly_rsi = get_rsi(ticker, period='1mo')\n",
    "    weekly_rsi = get_rsi(ticker, period='1wk')\n",
    "    daily_rsi = get_rsi(ticker, period='1d')\n",
    "\n",
    "    # Save data to Excel\n",
    "    save_to_excel(monthly_rsi, f\"{ticker}_monthly_rsi.xlsx\")\n",
    "    save_to_excel(weekly_rsi, f\"{ticker}_weekly_rsi.xlsx\")\n",
    "    save_to_excel(daily_rsi, f\"{ticker}_daily_rsi.xlsx\")\n",
    "\n",
    "    print(\"RSI values saved to Excel files.\")\n",
    "\n",
    "if __name__ == \"__main__\":\n",
    "    main()"
   ]
  },
  {
   "cell_type": "code",
   "execution_count": null,
   "id": "9250e296",
   "metadata": {},
   "outputs": [],
   "source": []
  }
 ],
 "metadata": {
  "kernelspec": {
   "display_name": "Python 3 (ipykernel)",
   "language": "python",
   "name": "python3"
  },
  "language_info": {
   "codemirror_mode": {
    "name": "ipython",
    "version": 3
   },
   "file_extension": ".py",
   "mimetype": "text/x-python",
   "name": "python",
   "nbconvert_exporter": "python",
   "pygments_lexer": "ipython3",
   "version": "3.9.19"
  }
 },
 "nbformat": 4,
 "nbformat_minor": 5
}
